{
 "cells": [
  {
   "cell_type": "code",
   "execution_count": 3,
   "id": "ab5e1e15-2b64-4802-981f-356f63654bda",
   "metadata": {},
   "outputs": [],
   "source": [
    "import numpy as np\n",
    "import math"
   ]
  },
  {
   "cell_type": "code",
   "execution_count": 33,
   "id": "42ce57e6-e748-4604-93d2-d6d48f727a6d",
   "metadata": {},
   "outputs": [],
   "source": [
    "def watts_dbW(power):\n",
    "    dbW = 10*np.log10(power)\n",
    "    return dbW\n",
    "\n",
    "def dbW_dbm(dbW):\n",
    "    dbm = dbW + 30\n",
    "    return dbm\n",
    "\n",
    "def dbW_watts(dbW):\n",
    "    power = 10**(dbW/10)\n",
    "    return power\n",
    "\n",
    "def dbm_dbW(dbm):\n",
    "    dbW = dbm - 30\n",
    "    return dbW\n",
    "\n",
    "\n",
    "def path_loss_sub6(distance):\n",
    "    f_c = 700e6\n",
    "    c = 3e8 # speed of light\n",
    "    d = distance\n",
    "    h_B = 20\n",
    "    h_R = 1.5\n",
    "\n",
    "    L_fspl = -10*np.log10((4.*math.pi*c/f_c / d) ** 2)\n",
    "    print(L_fspl)\n",
    "    pathloss = 16.8+33.2*np.log10(distance)\n",
    "    print(pathloss)\n",
    "\n",
    "    # COST231        \n",
    "    C = 3\n",
    "    a = (1.1 * np.log10(f_c/1e6) - 0.7)*h_R - (1.56*np.log10(f_c/1e6) - 0.8)\n",
    "    L_cost231  = 46.3 + 33.9 * np.log10(f_c/1e6) + 13.82 * np.log10(h_B) - a + (44.9 - 6.55 * np.log10(h_B)) * np.log10(d/1000.) + C\n",
    "\n",
    "    L = L_cost231\n",
    "    \n",
    "    return L_cost231\n",
    "\n",
    "def minpower(numUE,distance):\n",
    "    Po = -121\n",
    "    gu = 2.14\n",
    "    gn = 2.14\n",
    "    Pu = []\n",
    "    miu = 8\n",
    "    Mu = 1200*0.8/200*numUE\n",
    "    pathloss = 16.8+33.2*np.log10(distance)\n",
    "    pathloss2 = path_loss_sub6(distance)\n",
    "    Pu= Po - gu - gn + miu + pathloss + 10*np.log10(Mu)\n",
    "    print(Pu)\n",
    "    Pu = dbW_watts(Pu-30)\n",
    "    print(Pu)\n",
    "\n",
    "    return Pu     "
   ]
  },
  {
   "cell_type": "code",
   "execution_count": 35,
   "id": "12f2dd1d-c718-4b2e-a6fa-6740ee04b2aa",
   "metadata": {},
   "outputs": [
    {
     "name": "stdout",
     "output_type": "stream",
     "text": [
      "54.91776351984321\n",
      "132.24042565669282\n",
      "44.78313798708851\n",
      "30.082491226266267\n"
     ]
    }
   ],
   "source": [
    "distance = 3000\n",
    "numUE = 200\n",
    "minP = minpower(numUE,distance)\n",
    "\n"
   ]
  },
  {
   "cell_type": "code",
   "execution_count": null,
   "id": "5b669ce8-d621-4e40-8079-51eb64fbdd5c",
   "metadata": {},
   "outputs": [],
   "source": []
  }
 ],
 "metadata": {
  "kernelspec": {
   "display_name": "Python 3 (ipykernel)",
   "language": "python",
   "name": "python3"
  },
  "language_info": {
   "codemirror_mode": {
    "name": "ipython",
    "version": 3
   },
   "file_extension": ".py",
   "mimetype": "text/x-python",
   "name": "python",
   "nbconvert_exporter": "python",
   "pygments_lexer": "ipython3",
   "version": "3.10.6"
  }
 },
 "nbformat": 4,
 "nbformat_minor": 5
}
