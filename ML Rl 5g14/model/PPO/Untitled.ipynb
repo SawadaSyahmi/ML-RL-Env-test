{
 "cells": [
  {
   "cell_type": "code",
   "execution_count": 8,
   "id": "40918ec5-561e-43c9-af29-0afcdefba3b4",
   "metadata": {},
   "outputs": [
    {
     "name": "stdout",
     "output_type": "stream",
     "text": [
      "32\n",
      "34\n",
      "36\n",
      "38\n",
      "40\n",
      "42\n",
      "44\n",
      "46\n",
      "48\n",
      "50\n",
      "50\n",
      "16.989700043360187\n"
     ]
    }
   ],
   "source": [
    "import numpy as np\n",
    "\n",
    "power_tx = 1        \n",
    "txPower = 30     \n",
    "\n",
    "def watts_dbW(power):\n",
    "    dbW = 10*np.log10(power)\n",
    "    return dbW\n",
    "\n",
    "\n",
    "\n",
    "for i in range (30):       \n",
    "        if (power_tx == 1 and txPower > 1 and txPower < 50):\n",
    "            txPower += 2\n",
    "            print(txPower)\n",
    "            \n",
    "        elif (power_tx == 0 and txPower < 50):\n",
    "            txPower -= 2 \n",
    "\n",
    "dbPower = watts_dbW (txPower)\n",
    "print(txPower)\n",
    "print(dbPower)"
   ]
  },
  {
   "cell_type": "code",
   "execution_count": null,
   "id": "ae3f27a9-e021-413a-b24c-bc3aa845ceff",
   "metadata": {},
   "outputs": [],
   "source": []
  },
  {
   "cell_type": "code",
   "execution_count": null,
   "id": "0738e424-d884-4a58-8b08-a6a31d8aa21a",
   "metadata": {},
   "outputs": [],
   "source": []
  }
 ],
 "metadata": {
  "kernelspec": {
   "display_name": "Python 3 (ipykernel)",
   "language": "python",
   "name": "python3"
  },
  "language_info": {
   "codemirror_mode": {
    "name": "ipython",
    "version": 3
   },
   "file_extension": ".py",
   "mimetype": "text/x-python",
   "name": "python",
   "nbconvert_exporter": "python",
   "pygments_lexer": "ipython3",
   "version": "3.10.6"
  }
 },
 "nbformat": 4,
 "nbformat_minor": 5
}
